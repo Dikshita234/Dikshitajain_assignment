{
 "cells": [
  {
   "cell_type": "code",
   "execution_count": null,
   "id": "d8a8399d",
   "metadata": {},
   "outputs": [],
   "source": [
    "#ans1\n",
    "#Software is nothing but a collection of computer programs and\n",
    "# related documents that are intended to provide desired features,\n",
    "# functionalities and better performance."
   ]
  },
  {
   "cell_type": "code",
   "execution_count": null,
   "id": "34010439",
   "metadata": {},
   "outputs": [],
   "source": [
    "#ans2\n",
    "#1.web application\n",
    "#2.mobile application \n",
    "#3.desktop application"
   ]
  },
  {
   "cell_type": "code",
   "execution_count": null,
   "id": "3f3583be",
   "metadata": {},
   "outputs": [],
   "source": [
    "#ans3\n",
    "#Programming is a set of rule which is given to computer for performing any task ."
   ]
  },
  {
   "cell_type": "code",
   "execution_count": null,
   "id": "4057b45a",
   "metadata": {},
   "outputs": [],
   "source": [
    "#ans4\n",
    "#Python is a object oriented programming language which is created by Guido van rossum during 1991."
   ]
  }
 ],
 "metadata": {
  "kernelspec": {
   "display_name": "Python 3 (ipykernel)",
   "language": "python",
   "name": "python3"
  },
  "language_info": {
   "codemirror_mode": {
    "name": "ipython",
    "version": 3
   },
   "file_extension": ".py",
   "mimetype": "text/x-python",
   "name": "python",
   "nbconvert_exporter": "python",
   "pygments_lexer": "ipython3",
   "version": "3.9.13"
  }
 },
 "nbformat": 4,
 "nbformat_minor": 5
}
